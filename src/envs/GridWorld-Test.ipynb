{
 "cells": [
  {
   "cell_type": "code",
   "execution_count": 43,
   "metadata": {},
   "outputs": [
    {
     "data": {
      "text/plain": [
       "'0.10.3'"
      ]
     },
     "execution_count": 43,
     "metadata": {},
     "output_type": "execute_result"
    }
   ],
   "source": [
    "import gym \n",
    "gym.version.VERSION"
   ]
  },
  {
   "cell_type": "code",
   "execution_count": 44,
   "metadata": {
    "collapsed": true
   },
   "outputs": [],
   "source": [
    "import matplotlib.pyplot as plt\n",
    "import numpy as np\n",
    "%matplotlib inline\n",
    "from gridworld_env import GridworldEnv"
   ]
  },
  {
   "cell_type": "code",
   "execution_count": 56,
   "metadata": {},
   "outputs": [
    {
     "name": "stdout",
     "output_type": "stream",
     "text": [
      "\u001b[33mWARN: gym.spaces.Box autodetected dtype as <class 'numpy.float32'>. Please provide explicit dtype.\u001b[0m\n"
     ]
    }
   ],
   "source": [
    "env = GridworldEnv(4) # Number of plan "
   ]
  },
  {
   "cell_type": "code",
   "execution_count": 55,
   "metadata": {},
   "outputs": [
    {
     "data": {
      "image/png": "[encoded data removed]",
      "text/plain": [
       "<matplotlib.figure.Figure at 0x7fc557baa438>"
      ]
     },
     "metadata": {},
     "output_type": "display_data"
    }
   ],
   "source": [
    "env.render()"
   ]
  },
  {
   "cell_type": "code",
   "execution_count": 5,
   "metadata": {},
   "outputs": [
    {
     "data": {
      "text/plain": [
       "Box(3,)"
      ]
     },
     "execution_count": 5,
     "metadata": {},
     "output_type": "execute_result"
    }
   ],
   "source": [
    "env.observation_space"
   ]
  },
  {
   "cell_type": "code",
   "execution_count": 6,
   "metadata": {},
   "outputs": [
    {
     "name": "stdout",
     "output_type": "stream",
     "text": [
      "[ 0.09375 -0.5      0.     ]\n",
      "4\n"
     ]
    },
    {
     "data": {
      "text/plain": [
       "(array([ 0.09375, -0.5    , -0.1    ]), -0.1, False, {'success': True})"
      ]
     },
     "execution_count": 6,
     "metadata": {},
     "output_type": "execute_result"
    }
   ],
   "source": [
    "print(env.reset())\n",
    "print(env.action_space.sample())\n",
    "env.step(env.action_space.sample())"
   ]
  },
  {
   "cell_type": "code",
   "execution_count": 7,
   "metadata": {},
   "outputs": [
    {
     "name": "stdout",
     "output_type": "stream",
     "text": [
      "((4, 3), (1, 4))\n"
     ]
    }
   ],
   "source": [
    "env.verbose = True\n",
    "print( env._get_agent_start_target_state())"
   ]
  },
  {
   "cell_type": "code",
   "execution_count": 8,
   "metadata": {},
   "outputs": [
    {
     "data": {
      "text/plain": [
       "(8, 8)"
      ]
     },
     "execution_count": 8,
     "metadata": {},
     "output_type": "execute_result"
    }
   ],
   "source": [
    "env.grid_map_shape"
   ]
  },
  {
   "cell_type": "code",
   "execution_count": 9,
   "metadata": {},
   "outputs": [
    {
     "data": {
      "text/plain": [
       "Box(3,)"
      ]
     },
     "execution_count": 9,
     "metadata": {},
     "output_type": "execute_result"
    }
   ],
   "source": [
    "env.observation_space"
   ]
  },
  {
   "cell_type": "code",
   "execution_count": 10,
   "metadata": {},
   "outputs": [
    {
     "data": {
      "text/plain": [
       "Discrete(5)"
      ]
     },
     "execution_count": 10,
     "metadata": {},
     "output_type": "execute_result"
    }
   ],
   "source": [
    "env.action_space"
   ]
  },
  {
   "cell_type": "code",
   "execution_count": 13,
   "metadata": {
    "scrolled": false
   },
   "outputs": [
    {
     "name": "stdout",
     "output_type": "stream",
     "text": [
      "State \t\t\t\t - Reward\n",
      "[ 0.09375 -0.5     -0.1    ] \t\t\t -0.1\n",
      "[-0.15625 -0.1     -0.1    ] \t\t\t -0.1\n",
      "[-0.40625 -0.1     -0.1    ] \t\t\t -0.1\n",
      "[-0.40625  0.1     -0.6    ] \t\t\t -0.6\n",
      "[-0.65625 -0.1     -0.1    ] \t\t\t -0.1\n",
      "[-0.625  0.3    0.9  ] \t\t\t 0.9\n",
      "Total episode reward:  -0.09999999999999998\n"
     ]
    },
    {
     "data": {
      "image/png": "[encoded data removed]",
      "text/plain": [
       "<matplotlib.figure.Figure at 0x7fb2021c8828>"
      ]
     },
     "metadata": {},
     "output_type": "display_data"
    },
    {
     "data": {
      "image/png": "[encoded data removed]",
      "text/plain": [
       "<matplotlib.figure.Figure at 0x7fb2021c8048>"
      ]
     },
     "metadata": {},
     "output_type": "display_data"
    },
    {
     "data": {
      "image/png": "[encoded data removed]",
      "text/plain": [
       "<matplotlib.figure.Figure at 0x7fb1ffff6d30>"
      ]
     },
     "metadata": {},
     "output_type": "display_data"
    },
    {
     "data": {
      "image/png": "[encoded data removed]",
      "text/plain": [
       "<matplotlib.figure.Figure at 0x7fb200057a58>"
      ]
     },
     "metadata": {},
     "output_type": "display_data"
    },
    {
     "data": {
      "image/png": "[encoded data removed]",
      "text/plain": [
       "<matplotlib.figure.Figure at 0x7fb1fff62780>"
      ]
     },
     "metadata": {},
     "output_type": "display_data"
    },
    {
     "data": {
      "image/png": "[encoded data removed]",
      "text/plain": [
       "<matplotlib.figure.Figure at 0x7fb2000a7358>"
      ]
     },
     "metadata": {},
     "output_type": "display_data"
    },
    {
     "data": {
      "image/png": "[encoded data removed]",
      "text/plain": [
       "<matplotlib.figure.Figure at 0x7fb1ffd6ff28>"
      ]
     },
     "metadata": {},
     "output_type": "display_data"
    }
   ],
   "source": [
    "# Try random policy \n",
    "env.reset()\n",
    "moves = [0,2,2,3,2,4]\n",
    "env.render()\n",
    "print('State \\t\\t\\t\\t - Reward')\n",
    "for i in range(len(moves)):\n",
    "    move = env.action_space.sample()\n",
    "    obs , reward, _, _ =  env.step(moves[i]) \n",
    "    print(obs,'\\t\\t\\t',reward)\n",
    "    env.render()\n",
    "print('Total episode reward: ', env.episode_total_reward)"
   ]
  },
  {
   "cell_type": "markdown",
   "metadata": {},
   "source": [
    "## Q-learning Example"
   ]
  },
  {
   "cell_type": "code",
   "execution_count": 19,
   "metadata": {},
   "outputs": [
    {
     "name": "stdout",
     "output_type": "stream",
     "text": [
      "\u001b[33mWARN: gym.spaces.Box autodetected dtype as <class 'numpy.float32'>. Please provide explicit dtype.\u001b[0m\n",
      "###### LEARNING #####\n",
      "episodes      : 1000\n",
      "total reward  : -22658.100000000024\n",
      "average reward: -22.66\n",
      "Q Value       :[[ 0.          0.          0.          0.          0.        ]\n",
      " [ 0.          0.          0.          0.          0.        ]\n",
      " [ 0.          0.          0.          0.          0.        ]\n",
      " [ 0.          0.          0.          0.          0.        ]\n",
      " [ 0.          0.          0.          0.          0.        ]\n",
      " [ 0.          0.          0.          0.          0.        ]\n",
      " [ 0.          0.          0.          0.          0.        ]\n",
      " [ 0.          0.          0.          0.          0.        ]\n",
      " [ 0.          0.          0.          0.          0.        ]\n",
      " [ 0.4863866   0.36206713 -0.01361327 -0.01361327  0.6172492 ]\n",
      " [ 0.6172492   0.11724945  0.11724945  0.4863866   0.75499946]\n",
      " [ 0.75499946  0.6172492   0.2549996   0.6172492   0.89999974]\n",
      " [ 0.          0.          0.          0.          0.        ]\n",
      " [ 0.75499946  0.6172492   0.2549996   0.89999974  0.6172492 ]\n",
      " [ 0.6172492   0.11724945  0.11724945  0.75499946  0.11724945]\n",
      " [ 0.          0.          0.          0.          0.        ]\n",
      " [ 0.          0.          0.          0.          0.        ]\n",
      " [ 0.36206713  0.2439637   0.4863866  -0.1379328  -0.1379328 ]\n",
      " [ 0.          0.          0.          0.          0.        ]\n",
      " [ 0.6172492   0.4863866   0.75499946  0.11724945  0.75499946]\n",
      " [ 0.75499946  0.6172492   0.89999974  0.6172492   0.6172492 ]\n",
      " [ 0.6172492   0.4863866   0.75499946  0.75499946  0.11724945]\n",
      " [ 0.          0.          0.          0.          0.        ]\n",
      " [ 0.          0.          0.          0.          0.        ]\n",
      " [ 0.          0.          0.          0.          0.        ]\n",
      " [ 0.2439637   0.13176546  0.36206713 -0.25603637  0.36206713]\n",
      " [ 0.36206713  0.2439637  -0.1379328   0.2439637   0.4863866 ]\n",
      " [ 0.4863866   0.36206713  0.6172492   0.36206713  0.6172492 ]\n",
      " [ 0.6172492   0.4863866   0.75499946  0.4863866   0.4863866 ]\n",
      " [ 0.4863866   0.36206713  0.6172492   0.6172492   0.36206713]\n",
      " [ 0.36206713 -0.1379328  -0.1379328   0.4863866  -0.1379328 ]\n",
      " [ 0.          0.          0.          0.          0.        ]\n",
      " [ 0.          0.          0.          0.          0.        ]\n",
      " [ 0.13176546  0.02517717  0.2439637  -0.3682346   0.2439637 ]\n",
      " [ 0.2439637   0.13176546  0.36206713  0.13176546  0.36206713]\n",
      " [ 0.36206713  0.2439637   0.4863866   0.2439637   0.4863866 ]\n",
      " [ 0.4863866   0.36206713  0.6172492   0.36206713  0.36206713]\n",
      " [ 0.36206713  0.2439637   0.4863866   0.4863866  -0.1379328 ]\n",
      " [ 0.          0.          0.          0.          0.        ]\n",
      " [ 0.          0.          0.          0.          0.        ]\n",
      " [ 0.          0.          0.          0.          0.        ]\n",
      " [ 0.02517717 -0.07608172  0.13176546 -0.47482294  0.13176546]\n",
      " [ 0.13176546 -0.3682346   0.2439637   0.02517717  0.2439637 ]\n",
      " [ 0.2439637   0.13176546  0.36206713  0.13176546  0.36206713]\n",
      " [ 0.36206713  0.2439637   0.4863866   0.2439637   0.2439637 ]\n",
      " [ 0.2439637   0.13176546  0.36206713  0.36206713  0.13176546]\n",
      " [ 0.13176546  0.02517717 -0.3682346   0.2439637  -0.3682346 ]\n",
      " [ 0.          0.          0.          0.          0.        ]\n",
      " [ 0.          0.          0.          0.          0.        ]\n",
      " [-0.07608172 -0.57608193  0.02517717 -0.57608193 -0.57608193]\n",
      " [ 0.          0.          0.          0.          0.        ]\n",
      " [ 0.13176546 -0.3682346   0.2439637  -0.3682346   0.2439637 ]\n",
      " [ 0.2439637  -0.25603637  0.36206713  0.13176546  0.13176546]\n",
      " [ 0.13176546 -0.3682346   0.2439637   0.2439637   0.02517717]\n",
      " [ 0.02517717 -0.47482294  0.13176546  0.13176546 -0.47482294]\n",
      " [ 0.          0.          0.          0.          0.        ]\n",
      " [ 0.          0.          0.          0.          0.        ]\n",
      " [ 0.          0.          0.          0.          0.        ]\n",
      " [ 0.          0.          0.          0.          0.        ]\n",
      " [ 0.          0.          0.          0.          0.        ]\n",
      " [ 0.          0.          0.          0.          0.        ]\n",
      " [ 0.          0.          0.          0.          0.        ]\n",
      " [ 0.          0.          0.          0.          0.        ]\n",
      " [ 0.          0.          0.          0.          0.        ]]\n",
      "###### TEST #####\n",
      "episodes      : 100\n",
      "total reward  : 60.0000000000001\n",
      "average reward: 0.60\n"
     ]
    }
   ],
   "source": [
    "# Q learning params\n",
    "ALPHA = 0.1 # learning rate\n",
    "GAMMA = 0.95 # reward discount\n",
    "LEARNING_COUNT = 1000\n",
    "TEST_COUNT = 100\n",
    "\n",
    "TURN_LIMIT = 1000\n",
    "IS_MONITOR = True\n",
    "\n",
    "class Agent:\n",
    "    def __init__(self, env):\n",
    "        self.env = env\n",
    "        self.episode_reward = 0.0\n",
    "        self.q_val = np.zeros(64 * 5).reshape(64, 5).astype(np.float32)\n",
    "\n",
    "    def learn(self):\n",
    "        # one episode learning\n",
    "        state = self.env.reset()\n",
    "        #self.env.render()\n",
    "        \n",
    "        for t in range(TURN_LIMIT):\n",
    "            act = self.env.action_space.sample() # random\n",
    "            next_state, reward, done, info = self.env.step(act)\n",
    "            q_next_max = np.max(self.q_val[int(64.*(next_state[0]+1.)/2.)])\n",
    "            # Q <- Q + a(Q' - Q)\n",
    "            # <=> Q <- (1-a)Q + a(Q')\n",
    "            self.q_val[int(64.*(state[0]+1.)/2.)][act] = (1 - ALPHA) * self.q_val[int(64.*(state[0]+1.)/2.)][act]\\\n",
    "                                 + ALPHA * (reward + GAMMA * q_next_max)\n",
    "            \n",
    "            self.episode_reward += reward\n",
    "            #self.env.render()\n",
    "            if done:\n",
    "                return self.env.episode_total_reward\n",
    "            else:\n",
    "                state = next_state\n",
    "                \n",
    "        return 0.0 # over limit\n",
    "\n",
    "    def test(self):\n",
    "        state = self.env.reset()\n",
    "        for t in range(TURN_LIMIT):\n",
    "            act = np.argmax(self.q_val[int(64.*(state[0]+1.)/2.)])\n",
    "            next_state, reward, done, info = self.env.step(act)\n",
    "            if done:\n",
    "                return self.env.episode_total_reward\n",
    "            else:\n",
    "                state = next_state\n",
    "        return 0.0 # over limit\n",
    "\n",
    "env = GridworldEnv(1)\n",
    "env.reset()\n",
    "agent = Agent(env)\n",
    "\n",
    "print(\"###### LEARNING #####\")\n",
    "reward_total = 0.0\n",
    "for i in range(LEARNING_COUNT):\n",
    "    reward_total += agent.learn()\n",
    "print(\"episodes      : {}\".format(LEARNING_COUNT))\n",
    "print(\"total reward  : {}\".format(reward_total))\n",
    "print(\"average reward: {:.2f}\".format(reward_total / LEARNING_COUNT))\n",
    "print(\"Q Value       :{}\".format(agent.q_val))\n",
    "\n",
    "print(\"###### TEST #####\")\n",
    "reward_total = 0.0\n",
    "for i in range(TEST_COUNT):\n",
    "    reward_total += agent.test()\n",
    "print(\"episodes      : {}\".format(TEST_COUNT))\n",
    "print(\"total reward  : {}\".format(reward_total))\n",
    "print(\"average reward: {:.2f}\".format(reward_total / TEST_COUNT))\n",
    "\n"
   ]
  },
  {
   "cell_type": "code",
   "execution_count": 21,
   "metadata": {
    "collapsed": true
   },
   "outputs": [],
   "source": [
    "Q = agent.q_val \n",
    "policy_function = np.argmax( Q , axis = 1).reshape(8,8)"
   ]
  },
  {
   "cell_type": "code",
   "execution_count": 22,
   "metadata": {},
   "outputs": [
    {
     "data": {
      "image/png": "[encoded data removed]",
      "text/plain": [
       "<matplotlib.figure.Figure at 0x7fb2021a1940>"
      ]
     },
     "metadata": {},
     "output_type": "display_data"
    }
   ],
   "source": [
    "def plot_policy( policy_function ):\n",
    "\n",
    "    plt.figure()\n",
    "    plt.imshow( policy_function , interpolation='none' )\n",
    "    plt.colorbar()\n",
    "\n",
    "    for row in range( policy_function.shape[0] ):\n",
    "        for col in range( policy_function.shape[1] ):\n",
    "            if policy_function[row][col] == 0:\n",
    "                continue \n",
    "            if policy_function[row][col] == 1:\n",
    "                dx = 0; dy = .5\n",
    "            if policy_function[row][col] == 2:\n",
    "                dx = 0; dy = -.5\n",
    "            if policy_function[row][col] == 3:\n",
    "                dx = -.5; dy = 0\n",
    "            if policy_function[row][col] == 4:\n",
    "                dx = .5; dy = 0\n",
    "            plt.arrow( col , row , dx , dy , shape='full', fc='w' , ec='w' , lw=3, length_includes_head=True, head_width=.2 )\n",
    "    plt.title( 'Policy' )        \n",
    "    plt.show() \n",
    "plot_policy(policy_function)"
   ]
  },
  {
   "cell_type": "code",
   "execution_count": 23,
   "metadata": {},
   "outputs": [
    {
     "data": {
      "image/png": "[encoded data removed]",
      "text/plain": [
       "<matplotlib.figure.Figure at 0x7fb1ffe60be0>"
      ]
     },
     "metadata": {},
     "output_type": "display_data"
    }
   ],
   "source": [
    "env.reset()\n",
    "env.render()"
   ]
  },
  {
   "cell_type": "code",
   "execution_count": null,
   "metadata": {
    "collapsed": true
   },
   "outputs": [],
   "source": []
  }
 ],
 "metadata": {
  "kernelspec": {
   "display_name": "Python 3",
   "language": "python",
   "name": "python3"
  },
  "language_info": {
   "codemirror_mode": {
    "name": "ipython",
    "version": 3
   },
   "file_extension": ".py",
   "mimetype": "text/x-python",
   "name": "python",
   "nbconvert_exporter": "python",
   "pygments_lexer": "ipython3",
   "version": "3.6.3"
  }
 },
 "nbformat": 4,
 "nbformat_minor": 2
}
